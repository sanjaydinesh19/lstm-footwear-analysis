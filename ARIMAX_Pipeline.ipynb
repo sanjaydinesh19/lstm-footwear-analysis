{
  "nbformat": 4,
  "nbformat_minor": 0,
  "metadata": {
    "colab": {
      "provenance": [],
      "authorship_tag": "ABX9TyN2M5CcZBtk5tVHb8a7Ctuo",
      "include_colab_link": true
    },
    "kernelspec": {
      "name": "python3",
      "display_name": "Python 3"
    },
    "language_info": {
      "name": "python"
    }
  },
  "cells": [
    {
      "cell_type": "markdown",
      "metadata": {
        "id": "view-in-github",
        "colab_type": "text"
      },
      "source": [
        "<a href=\"https://colab.research.google.com/github/sanjaydinesh19/lstm-footwear-analysis/blob/main/ARIMAX_Pipeline.ipynb\" target=\"_parent\"><img src=\"https://colab.research.google.com/assets/colab-badge.svg\" alt=\"Open In Colab\"/></a>"
      ]
    },
    {
      "cell_type": "markdown",
      "source": [
        "# 1. Imports and Configs"
      ],
      "metadata": {
        "id": "oy6JVgABfp-V"
      }
    },
    {
      "cell_type": "code",
      "execution_count": 295,
      "metadata": {
        "id": "y4ZzWCp1635W"
      },
      "outputs": [],
      "source": [
        "#Configs\n",
        "\"\"\"\n",
        "Load Libraries and Define detailed Configs\n",
        "\"\"\"\n",
        "import pandas as pd\n",
        "import numpy as np\n",
        "import matplotlib.pyplot as plt\n",
        "import statsmodels.api as sm\n",
        "from sklearn.metrics import mean_absolute_error, mean_squared_error\n",
        "import os\n",
        "\n",
        "CSV_PATH = \"/content/drive/MyDrive/Research/Time Series Footwear/data.csv\"\n",
        "DATE_COL = \"week_end_date\"\n",
        "TARGET = \"units_sold\"\n",
        "GROUP_COLS = [\"store_id\", \"product_id\"]\n",
        "FREQ = \"W\"\n",
        "TEST_WEEKS = 6\n",
        "ORDER = (9,0,6)\n",
        "SEASONAL_ORDER = (0,0,0,0)\n",
        "LAG_PERIODS = [1, 2, 4, 8]\n",
        "ROLLING_WINDOWS = [4, 8]\n",
        "BASE_EXOG_VARS = [\n",
        "    \"promo_flag\",\n",
        "    \"discount_rate\",\n",
        "    \"avg_temp_c\",\n",
        "    \"rainfall_mm\",\n",
        "    \"neighborhood_trend_index\",\n",
        "    \"is_festival_season\"\n",
        "]\n",
        "\n",
        "TOP_K_EXOG = 12\n",
        "SAVE_MODEL = False\n",
        "MODEL_PATH = \"best_arimax_model.joblib\""
      ]
    },
    {
      "cell_type": "markdown",
      "source": [
        "# 2. Helper Functions"
      ],
      "metadata": {
        "id": "IosRG34HfviG"
      }
    },
    {
      "cell_type": "code",
      "source": [
        "def mape(y_true, y_pred):\n",
        "    \"\"\"\n",
        "    Computes Mean Absolute Percentage Error\n",
        "    \"\"\"\n",
        "    y_true = np.array(y_true)\n",
        "    y_pred = np.array(y_pred)\n",
        "    mask = y_true != 0\n",
        "    if mask.sum() == 0:\n",
        "        return np.nan\n",
        "    return np.mean(np.abs((y_true[mask] - y_pred[mask]) / y_true[mask])) * 100\n",
        "\n",
        "def add_lag_features(df, target, lags):\n",
        "    \"\"\"\n",
        "    Adds lagged features to dataframe to capture autoregressive relationships\n",
        "    \"\"\"\n",
        "    for lag in lags:\n",
        "        df[f'{target}_lag{lag}'] = df[target].shift(lag)\n",
        "    return df\n",
        "\n",
        "def add_rolling_features(df, target, windows):\n",
        "    \"\"\"\n",
        "    For each window, add rolling mean, std, min, and max to capture trends\n",
        "    \"\"\"\n",
        "    for window in windows:\n",
        "        df[f'{target}_rolling_mean_{window}'] = df[target].rolling(window=window).mean()\n",
        "        df[f'{target}_rolling_std_{window}'] = df[target].rolling(window=window).std()\n",
        "        df[f'{target}_rolling_min_{window}'] = df[target].rolling(window=window).min()\n",
        "        df[f'{target}_rolling_max_{window}'] = df[target].rolling(window=window).max()\n",
        "    return df\n",
        "\n",
        "def add_interaction_features(df):\n",
        "    \"\"\"\n",
        "    Our own handcrafted interactions and binary flags\n",
        "    \"\"\"\n",
        "    if 'promo_flag' in df.columns and 'discount_rate' in df.columns:\n",
        "        df['promo_discount'] = df['promo_flag'] * df['discount_rate']\n",
        "    if 'is_festival_season' in df.columns and 'promo_flag' in df.columns:\n",
        "        df['festival_promo'] = df['is_festival_season'] * df['promo_flag']\n",
        "    if 'avg_temp_c' in df.columns and 'rainfall_mm' in df.columns:\n",
        "        df['temp_rainfall'] = df['avg_temp_c'] * df['rainfall_mm'] / 100.0\n",
        "    if 'discount_rate' in df.columns:\n",
        "        df['high_discount'] = (df['discount_rate'] > 0.05).astype(int)\n",
        "    if 'rainfall_mm' in df.columns:\n",
        "        df['heavy_rain'] = (df['rainfall_mm'] > 30).astype(int)\n",
        "    return df\n",
        "\n",
        "def clean_exog(train_X, test_X):\n",
        "    \"\"\"\n",
        "    Coerce Exogenous Feature matrices to numeric, align columns and drop constants\n",
        "    1. Convert boolean cols to int\n",
        "    2. Try numeric coercion for object colums -> If failes, convert categories to codes\n",
        "    3. Convert everything to numeric\n",
        "    4. Drop Constants\n",
        "    5. Keep common to train and test columns\n",
        "    6. Make sure no non numeric columns remain\n",
        "    \"\"\"\n",
        "    train_X = train_X.copy()\n",
        "    test_X = test_X.copy()\n",
        "    bool_cols = train_X.select_dtypes(include=['bool']).columns.tolist()\n",
        "    if bool_cols:\n",
        "        train_X[bool_cols] = train_X[bool_cols].astype(int)\n",
        "        test_X[bool_cols] = test_X[bool_cols].astype(int)\n",
        "    obj_cols = train_X.select_dtypes(include=['object', 'category']).columns.tolist()\n",
        "    for col in obj_cols:\n",
        "        coerced_train = pd.to_numeric(train_X[col], errors='coerce')\n",
        "        coerced_test = pd.to_numeric(test_X[col], errors='coerce')\n",
        "        if coerced_train.notna().sum() > 0:\n",
        "            train_X[col] = coerced_train\n",
        "            test_X[col] = coerced_test\n",
        "        else:\n",
        "            combined = pd.concat([train_X[col].astype('category'), test_X[col].astype('category')], axis=0)\n",
        "            codes = combined.cat.codes\n",
        "            train_X[col] = codes.iloc[:len(train_X)].values\n",
        "            test_X[col] = codes.iloc[len(train_X):].values\n",
        "    train_X = train_X.apply(pd.to_numeric, errors='coerce')\n",
        "    test_X  = test_X.apply(pd.to_numeric, errors='coerce')\n",
        "    train_X = train_X.fillna(method='ffill').fillna(method='bfill').fillna(0)\n",
        "    test_X  = test_X.fillna(method='ffill').fillna(method='bfill').fillna(0)\n",
        "    nunique = train_X.nunique()\n",
        "    const_cols = nunique[nunique <= 1].index.tolist()\n",
        "    if const_cols:\n",
        "        train_X = train_X.drop(columns=const_cols, errors='ignore')\n",
        "        test_X = test_X.drop(columns=const_cols, errors='ignore')\n",
        "    common_cols = [c for c in train_X.columns if c in test_X.columns]\n",
        "    train_X = train_X[common_cols]\n",
        "    test_X = test_X[common_cols]\n",
        "    non_numeric = [c for c in train_X.columns if not np.issubdtype(train_X[c].dtype, np.number)]\n",
        "    if non_numeric:\n",
        "        raise ValueError(f\"Exog still contains non-numeric columns: {non_numeric}\")\n",
        "\n",
        "    return train_X, test_X, common_cols\n",
        "def add_exog_lags(df, exog_cols, lags):\n",
        "    \"\"\"\n",
        "    Add lagged versions of exogenous columns.\n",
        "    - df: full group dataframe (sorted by date)\n",
        "    - exog_cols: iterable of column names to lag (strings)\n",
        "    - lags: iterable of integer lags (e.g., [1,2])\n",
        "    Returns df with new columns like 'promo_flag_lag1'.\n",
        "    \"\"\"\n",
        "    for col in exog_cols:\n",
        "        if col not in df.columns:\n",
        "            continue\n",
        "        for lag in lags:\n",
        "            df[f'{col}_lag{lag}'] = df[col].shift(lag)\n",
        "    return df\n"
      ],
      "metadata": {
        "id": "cguzt0x_6-xa"
      },
      "execution_count": 296,
      "outputs": []
    },
    {
      "cell_type": "markdown",
      "source": [
        "# 3. Original DataFrame"
      ],
      "metadata": {
        "id": "io3d53F9hOaX"
      }
    },
    {
      "cell_type": "code",
      "source": [
        "# Drive Mount\n",
        "try:\n",
        "    from google.colab import drive\n",
        "    drive.mount(\"/content/drive\", force_remount=False)\n",
        "except Exception:\n",
        "    pass\n",
        "\n",
        "# Load Base Data\n",
        "df = pd.read_csv(CSV_PATH)\n",
        "df[DATE_COL] = pd.to_datetime(df[DATE_COL], errors='coerce')\n",
        "df = df.dropna(subset=[DATE_COL])\n",
        "\n",
        "print(\"Original DataFrame:\")\n",
        "print(df.head(10))\n",
        "print(\"\\nShape:\", df.shape)\n",
        "print(\"\\nColumns:\", df.columns.tolist())\n"
      ],
      "metadata": {
        "colab": {
          "base_uri": "https://localhost:8080/"
        },
        "id": "ptul9ZNt7J8-",
        "outputId": "35721236-c333-492b-ea28-99b074878ff7"
      },
      "execution_count": 312,
      "outputs": [
        {
          "output_type": "stream",
          "name": "stdout",
          "text": [
            "Drive already mounted at /content/drive; to attempt to forcibly remount, call drive.mount(\"/content/drive\", force_remount=True).\n",
            "Original DataFrame:\n",
            "  week_end_date store_id product_id  units_sold  units_returned  \\\n",
            "0    2024-01-07     ST01       P001          24               2   \n",
            "1    2024-01-07     ST01       P002          20               2   \n",
            "2    2024-01-07     ST01       P003          15               4   \n",
            "3    2024-01-07     ST01       P004          21               0   \n",
            "4    2024-01-07     ST01       P005          12               2   \n",
            "5    2024-01-07     ST01       P006          25               2   \n",
            "6    2024-01-07     ST01       P007          16               2   \n",
            "7    2024-01-07     ST01       P008          17               2   \n",
            "8    2024-01-07     ST01       P009          20               3   \n",
            "9    2024-01-07     ST01       P010          24               5   \n",
            "\n",
            "   unit_price_inr  revenue_inr  promo_flag  discount_rate  avg_temp_c  \\\n",
            "0            2038        48912           0           0.15        28.8   \n",
            "1            1547        30940           0           0.00        26.7   \n",
            "2            2328        34920           0           0.00        24.4   \n",
            "3            3053        64113           0           0.00        24.3   \n",
            "4             961        11532           0           0.20        23.8   \n",
            "5            1563        39075           0           0.00        30.9   \n",
            "6            2498        39968           0           0.00        26.0   \n",
            "7            2695        45815           0           0.00        25.4   \n",
            "8            2681        53620           0           0.00        25.8   \n",
            "9            2522        60528           0           0.15        21.6   \n",
            "\n",
            "   rainfall_mm  neighborhood_trend_index  is_festival_season  \n",
            "0         31.5                      95.3                   1  \n",
            "1         12.0                      98.8                   1  \n",
            "2         34.2                     102.9                   1  \n",
            "3         13.3                     115.2                   1  \n",
            "4         37.8                     107.9                   1  \n",
            "5          7.3                      94.9                   1  \n",
            "6         29.0                      91.0                   1  \n",
            "7         24.9                      99.2                   1  \n",
            "8         15.5                     100.9                   1  \n",
            "9          0.0                     108.9                   1  \n",
            "\n",
            "Shape: (8000, 13)\n",
            "\n",
            "Columns: ['week_end_date', 'store_id', 'product_id', 'units_sold', 'units_returned', 'unit_price_inr', 'revenue_inr', 'promo_flag', 'discount_rate', 'avg_temp_c', 'rainfall_mm', 'neighborhood_trend_index', 'is_festival_season']\n"
          ]
        }
      ]
    },
    {
      "cell_type": "markdown",
      "source": [
        "# 4. Group Selection"
      ],
      "metadata": {
        "id": "9uMH-PFyhQ9L"
      }
    },
    {
      "cell_type": "code",
      "source": [
        "#Group Selection\n",
        "\"\"\"\n",
        "Compute Group Sizes and pick the top (Most Observed) Group. Runs modelling on a single time series\n",
        "\"\"\"\n",
        "group_counts = df.groupby(GROUP_COLS).size().sort_values(ascending=False)\n",
        "if group_counts.empty:\n",
        "    raise ValueError(\"No groups found in data.\")\n",
        "top_group = group_counts.index[0]\n",
        "print(\"Selected group:\", top_group, \"Observations:\", group_counts.iloc[0])"
      ],
      "metadata": {
        "colab": {
          "base_uri": "https://localhost:8080/"
        },
        "id": "Dseu7dl87MM_",
        "outputId": "c08528fe-b079-4757-a401-41eb5b48caf5"
      },
      "execution_count": 298,
      "outputs": [
        {
          "output_type": "stream",
          "name": "stdout",
          "text": [
            "Selected group: ('ST01', 'P001') Observations: 80\n"
          ]
        }
      ]
    },
    {
      "cell_type": "markdown",
      "source": [
        "#5. Feature Engineering"
      ],
      "metadata": {
        "id": "S-wTo-bbhTQB"
      }
    },
    {
      "cell_type": "code",
      "source": [
        "#Per Group Preprocessing\n",
        "\"\"\"\n",
        "1. Filter dataframe for chosen group\n",
        "2. Add lag, rolling and interaction features\n",
        "3. Set DATE_COL as idx\n",
        "4. Use asfreq() to ensure regular weekly frequency\n",
        "\"\"\"\n",
        "mask = (df[GROUP_COLS[0]] == top_group[0]) & (df[GROUP_COLS[1]] == top_group[1])\n",
        "gdf = df[mask].copy().sort_values(DATE_COL)\n",
        "\n",
        "exog_to_lag = [c for c in BASE_EXOG_VARS if c in gdf.columns]\n",
        "gdf = add_lag_features(gdf, TARGET, LAG_PERIODS)\n",
        "gdf = add_rolling_features(gdf, TARGET, ROLLING_WINDOWS)\n",
        "gdf = add_interaction_features(gdf)\n",
        "gdf = add_exog_lags(gdf, exog_to_lag, lags=[1, 2])\n",
        "gdf = add_exog_lags(gdf, BASE_EXOG_VARS, lags=[1,2])\n",
        "gdf = gdf.set_index(DATE_COL)\n",
        "\n",
        "print(\"\\nDataFrame after adding lag, rolling, interaction & lagged exog features:\")\n",
        "print(gdf.head(10))\n",
        "print(\"\\nShape:\", gdf.shape)\n",
        "print(\"\\nNew Columns:\", [c for c in gdf.columns if c not in df.columns])\n",
        "\n",
        "y = gdf[TARGET].asfreq(FREQ)\n",
        "\n",
        "available_exog = [c for c in BASE_EXOG_VARS + list(gdf.columns) if (c in gdf.columns) and (c != TARGET)]\n",
        "\n",
        "available_exog = list(dict.fromkeys(available_exog))\n",
        "\n",
        "X = gdf[available_exog].asfreq(FREQ) if available_exog else None\n"
      ],
      "metadata": {
        "id": "AD9SU47J71H3",
        "outputId": "7fa39b28-c206-47ed-f75c-1ed1d309a742",
        "colab": {
          "base_uri": "https://localhost:8080/"
        }
      },
      "execution_count": 313,
      "outputs": [
        {
          "output_type": "stream",
          "name": "stdout",
          "text": [
            "\n",
            "DataFrame after adding lag, rolling, interaction & lagged exog features:\n",
            "              store_id product_id  units_sold  units_returned  unit_price_inr  \\\n",
            "week_end_date                                                                   \n",
            "2024-01-07        ST01       P001          24               2            2038   \n",
            "2024-01-14        ST01       P001          24               1            3411   \n",
            "2024-01-21        ST01       P001          15               3            1387   \n",
            "2024-01-28        ST01       P001          17               1            3882   \n",
            "2024-02-04        ST01       P001          16               1            3237   \n",
            "2024-02-11        ST01       P001          22               1            3280   \n",
            "2024-02-18        ST01       P001          15               3            3989   \n",
            "2024-02-25        ST01       P001          15               1            3320   \n",
            "2024-03-03        ST01       P001          24               1            1932   \n",
            "2024-03-10        ST01       P001          15               0            1106   \n",
            "\n",
            "               revenue_inr  promo_flag  discount_rate  avg_temp_c  \\\n",
            "week_end_date                                                       \n",
            "2024-01-07           48912           0           0.15        28.8   \n",
            "2024-01-14           81864           0           0.00        25.2   \n",
            "2024-01-21           20805           0           0.00        28.4   \n",
            "2024-01-28           65994           0           0.00        24.6   \n",
            "2024-02-04           51792           0           0.00        28.7   \n",
            "2024-02-11           72160           0           0.00        27.7   \n",
            "2024-02-18           59835           0           0.00        28.5   \n",
            "2024-02-25           49800           1           0.10        32.2   \n",
            "2024-03-03           46368           0           0.20        29.2   \n",
            "2024-03-10           16590           0           0.00        31.5   \n",
            "\n",
            "               rainfall_mm  ...  discount_rate_lag1  discount_rate_lag2  \\\n",
            "week_end_date               ...                                           \n",
            "2024-01-07            31.5  ...                 NaN                 NaN   \n",
            "2024-01-14            29.0  ...                0.15                 NaN   \n",
            "2024-01-21            28.2  ...                0.00                0.15   \n",
            "2024-01-28            11.5  ...                0.00                0.00   \n",
            "2024-02-04             0.0  ...                0.00                0.00   \n",
            "2024-02-11            15.0  ...                0.00                0.00   \n",
            "2024-02-18            14.8  ...                0.00                0.00   \n",
            "2024-02-25            12.4  ...                0.00                0.00   \n",
            "2024-03-03            20.4  ...                0.10                0.00   \n",
            "2024-03-10            31.4  ...                0.20                0.10   \n",
            "\n",
            "               avg_temp_c_lag1  avg_temp_c_lag2  rainfall_mm_lag1  \\\n",
            "week_end_date                                                       \n",
            "2024-01-07                 NaN              NaN               NaN   \n",
            "2024-01-14                28.8              NaN              31.5   \n",
            "2024-01-21                25.2             28.8              29.0   \n",
            "2024-01-28                28.4             25.2              28.2   \n",
            "2024-02-04                24.6             28.4              11.5   \n",
            "2024-02-11                28.7             24.6               0.0   \n",
            "2024-02-18                27.7             28.7              15.0   \n",
            "2024-02-25                28.5             27.7              14.8   \n",
            "2024-03-03                32.2             28.5              12.4   \n",
            "2024-03-10                29.2             32.2              20.4   \n",
            "\n",
            "               rainfall_mm_lag2  neighborhood_trend_index_lag1  \\\n",
            "week_end_date                                                    \n",
            "2024-01-07                  NaN                            NaN   \n",
            "2024-01-14                  NaN                           95.3   \n",
            "2024-01-21                 31.5                           98.7   \n",
            "2024-01-28                 29.0                           97.6   \n",
            "2024-02-04                 28.2                          110.2   \n",
            "2024-02-11                 11.5                          106.8   \n",
            "2024-02-18                  0.0                          100.5   \n",
            "2024-02-25                 15.0                          108.9   \n",
            "2024-03-03                 14.8                           99.5   \n",
            "2024-03-10                 12.4                          129.6   \n",
            "\n",
            "               neighborhood_trend_index_lag2  is_festival_season_lag1  \\\n",
            "week_end_date                                                           \n",
            "2024-01-07                               NaN                      NaN   \n",
            "2024-01-14                               NaN                      1.0   \n",
            "2024-01-21                              95.3                      1.0   \n",
            "2024-01-28                              98.7                      1.0   \n",
            "2024-02-04                              97.6                      1.0   \n",
            "2024-02-11                             110.2                      0.0   \n",
            "2024-02-18                             106.8                      0.0   \n",
            "2024-02-25                             100.5                      0.0   \n",
            "2024-03-03                             108.9                      0.0   \n",
            "2024-03-10                              99.5                      0.0   \n",
            "\n",
            "               is_festival_season_lag2  \n",
            "week_end_date                           \n",
            "2024-01-07                         NaN  \n",
            "2024-01-14                         NaN  \n",
            "2024-01-21                         1.0  \n",
            "2024-01-28                         1.0  \n",
            "2024-02-04                         1.0  \n",
            "2024-02-11                         1.0  \n",
            "2024-02-18                         0.0  \n",
            "2024-02-25                         0.0  \n",
            "2024-03-03                         0.0  \n",
            "2024-03-10                         0.0  \n",
            "\n",
            "[10 rows x 41 columns]\n",
            "\n",
            "Shape: (80, 41)\n",
            "\n",
            "New Columns: ['units_sold_lag1', 'units_sold_lag2', 'units_sold_lag4', 'units_sold_lag8', 'units_sold_rolling_mean_4', 'units_sold_rolling_std_4', 'units_sold_rolling_min_4', 'units_sold_rolling_max_4', 'units_sold_rolling_mean_8', 'units_sold_rolling_std_8', 'units_sold_rolling_min_8', 'units_sold_rolling_max_8', 'promo_discount', 'festival_promo', 'temp_rainfall', 'high_discount', 'heavy_rain', 'promo_flag_lag1', 'promo_flag_lag2', 'discount_rate_lag1', 'discount_rate_lag2', 'avg_temp_c_lag1', 'avg_temp_c_lag2', 'rainfall_mm_lag1', 'rainfall_mm_lag2', 'neighborhood_trend_index_lag1', 'neighborhood_trend_index_lag2', 'is_festival_season_lag1', 'is_festival_season_lag2']\n"
          ]
        }
      ]
    },
    {
      "cell_type": "code",
      "source": [
        "#Handle missing values\n",
        "if y.isna().any():\n",
        "    y = y.interpolate(method='time').ffill().bfill().fillna(0)\n",
        "if X is not None and X.isna().any().any():\n",
        "    X = X.ffill().bfill().fillna(0)"
      ],
      "metadata": {
        "id": "-4WXXkFD75uX"
      },
      "execution_count": 300,
      "outputs": []
    },
    {
      "cell_type": "markdown",
      "source": [
        "# 6. Train/Test Split"
      ],
      "metadata": {
        "id": "iiQSyXwthYL8"
      }
    },
    {
      "cell_type": "code",
      "source": [
        "#Train/Test Split\n",
        "print(f\"Series length: {len(y)}\")\n",
        "valid_idx = y.dropna().index\n",
        "y = y.loc[valid_idx]\n",
        "if X is not None:\n",
        "    X = X.loc[valid_idx]\n",
        "\n",
        "if len(y) < TEST_WEEKS + 10:\n",
        "    raise ValueError(\"Series too short.\")\n",
        "\n",
        "train_y = y.iloc[:-TEST_WEEKS]\n",
        "test_y  = y.iloc[-TEST_WEEKS:]\n",
        "train_X = X.iloc[:-TEST_WEEKS] if X is not None else None\n",
        "test_X  = X.iloc[-TEST_WEEKS:] if X is not None else None\n",
        "\n",
        "print(f\"Train weeks: {len(train_y)}, Test weeks: {len(test_y)}\")"
      ],
      "metadata": {
        "colab": {
          "base_uri": "https://localhost:8080/"
        },
        "id": "aecNfxyg77jf",
        "outputId": "472a6e5b-c59f-402c-95a7-56b3ec40e8a8"
      },
      "execution_count": 301,
      "outputs": [
        {
          "output_type": "stream",
          "name": "stdout",
          "text": [
            "Series length: 80\n",
            "Train weeks: 74, Test weeks: 6\n"
          ]
        }
      ]
    },
    {
      "cell_type": "code",
      "source": [
        "#Feature Selection\n",
        "\"\"\"\n",
        "Keep only TOP_K_EXOG features using Pearson correlations to reduce dimensionality\n",
        "\"\"\"\n",
        "if train_X is not None:\n",
        "    train_X_clean, test_X_clean, feature_names = clean_exog(train_X, test_X)\n",
        "\n",
        "    if TOP_K_EXOG is not None and TOP_K_EXOG > 0 and len(feature_names) > TOP_K_EXOG:\n",
        "        corrs = train_X_clean.corrwith(train_y).abs().sort_values(ascending=False)\n",
        "        top_feats = corrs.index[:TOP_K_EXOG].tolist()\n",
        "        train_X_clean = train_X_clean[top_feats]\n",
        "        test_X_clean  = test_X_clean[top_feats]\n",
        "        feature_names = top_feats\n",
        "else:\n",
        "    train_X_clean = test_X_clean = None\n",
        "    feature_names = []"
      ],
      "metadata": {
        "id": "v_GXaK5P79JL"
      },
      "execution_count": 303,
      "outputs": []
    },
    {
      "cell_type": "code",
      "source": [
        "#Shape and indices check\n",
        "if train_X_clean is not None:\n",
        "    assert train_X_clean.shape[0] == train_y.shape[0], \"train_X rows must equal train_y rows\"\n",
        "    assert test_X_clean.shape[0] == test_y.shape[0], \"test_X rows must equal test_y rows\"\n",
        "    assert train_X_clean.index.equals(train_y.index)\n",
        "    assert test_X_clean.index.equals(test_y.index)\n"
      ],
      "metadata": {
        "id": "itkIjDhE7_QE"
      },
      "execution_count": 304,
      "outputs": []
    },
    {
      "cell_type": "markdown",
      "source": [
        "# 7. Call the Model"
      ],
      "metadata": {
        "id": "7mgnQ-zRhgvY"
      }
    },
    {
      "cell_type": "code",
      "source": [
        "#Model Call\n",
        "print(f\"Fitting ARIMAX order={ORDER}\")\n",
        "model = sm.tsa.SARIMAX(\n",
        "    train_y,\n",
        "    exog=train_X_clean,\n",
        "    order=ORDER, #AR = 1, I = 0, MA = 4\n",
        "    seasonal_order=SEASONAL_ORDER, #No seasonal component\n",
        "    enforce_stationarity=False,\n",
        "    enforce_invertibility=False\n",
        ")\n",
        "\n",
        "res = model.fit(disp=False, maxiter=200)\n",
        "n_steps = len(test_y)"
      ],
      "metadata": {
        "colab": {
          "base_uri": "https://localhost:8080/"
        },
        "id": "1yiEiABm8BXq",
        "outputId": "00915957-6db2-44be-d252-d7f1f9acb6af"
      },
      "execution_count": 305,
      "outputs": [
        {
          "output_type": "stream",
          "name": "stdout",
          "text": [
            "Fitting ARIMAX order=(9, 0, 6)\n"
          ]
        }
      ]
    },
    {
      "cell_type": "code",
      "source": [
        "\n",
        "#Forecasting and Confidence Intervals\n",
        "pred_res = res.get_forecast(steps=n_steps, exog=test_X_clean)\n",
        "forecast = pred_res.predicted_mean\n",
        "conf_int = pred_res.conf_int()"
      ],
      "metadata": {
        "id": "2bb9_hoh8Dih"
      },
      "execution_count": 306,
      "outputs": []
    },
    {
      "cell_type": "markdown",
      "source": [
        "# 8. Evaluation Metrics"
      ],
      "metadata": {
        "id": "_4NH7OG4hj7K"
      }
    },
    {
      "cell_type": "code",
      "source": [
        "\n",
        "train_pred = res.fittedvalues                     # Model's in-sample predictions\n",
        "test_pred = forecast                              # Out-of-sample forecast (already computed)\n",
        "\n",
        "train_mae = mean_absolute_error(train_y, train_pred)\n",
        "train_rmse = np.sqrt(mean_squared_error(train_y, train_pred))\n",
        "train_mape = mape(train_y, train_pred)\n",
        "train_accuracy = 100 - train_mape\n",
        "ss_res_train = np.sum((train_y - train_pred)**2)\n",
        "ss_tot_train = np.sum((train_y - np.mean(train_y))**2)\n",
        "train_r2 = 1 - (ss_res_train / ss_tot_train) if ss_tot_train > 0 else np.nan\n",
        "\n",
        "test_mae = mean_absolute_error(test_y, test_pred)\n",
        "test_rmse = np.sqrt(mean_squared_error(test_y, test_pred))\n",
        "test_mape = mape(test_y, test_pred)\n",
        "test_accuracy = 100 - test_mape\n",
        "ss_res_test = np.sum((test_y - test_pred)**2)\n",
        "ss_tot_test = np.sum((test_y - np.mean(test_y))**2)\n",
        "test_r2 = 1 - (ss_res_test / ss_tot_test) if ss_tot_test > 0 else np.nan\n",
        "\n",
        "print(\"Training Performance:\")\n",
        "print(f\"  MAE:  {train_mae:.4f}\")\n",
        "print(f\"  RMSE: {train_rmse:.4f}\")\n",
        "print(f\"  MAPE: {train_mape:.2f}%\")\n",
        "print(f\"  Accuracy: {train_accuracy:.2f}%\")\n",
        "print(f\"  R²:   {train_r2:.4f}\\n\")\n",
        "\n",
        "print(\"Testing Performance:\")\n",
        "print(f\"  MAE:  {test_mae:.4f}\")\n",
        "print(f\"  RMSE: {test_rmse:.4f}\")\n",
        "print(f\"  MAPE: {test_mape:.2f}%\")\n",
        "print(f\"  Accuracy: {test_accuracy:.2f}%\")\n",
        "print(f\"  R²:   {test_r2:.4f}\")\n",
        "\n"
      ],
      "metadata": {
        "colab": {
          "base_uri": "https://localhost:8080/"
        },
        "id": "4jy5H4OR8GV2",
        "outputId": "88a79b90-64c4-4498-a8da-9c7ee6fae71e"
      },
      "execution_count": 307,
      "outputs": [
        {
          "output_type": "stream",
          "name": "stdout",
          "text": [
            "Training Performance:\n",
            "  MAE:  1.9927\n",
            "  RMSE: 2.5421\n",
            "  MAPE: 10.36%\n",
            "  Accuracy: 89.64%\n",
            "  R²:   0.6452\n",
            "\n",
            "Testing Performance:\n",
            "  MAE:  2.0032\n",
            "  RMSE: 3.0233\n",
            "  MAPE: 16.91%\n",
            "  Accuracy: 83.09%\n",
            "  R²:   0.6083\n"
          ]
        }
      ]
    },
    {
      "cell_type": "markdown",
      "source": [
        "# 9. Visualization"
      ],
      "metadata": {
        "id": "p1gA2YInhmFL"
      }
    },
    {
      "cell_type": "code",
      "source": [
        "#Visualization plots\n",
        "plt.figure(figsize=(12,5))\n",
        "plt.plot(train_y.index, train_y, label='Train', color='blue')\n",
        "plt.plot(test_y.index, test_y, label='Test', color='orange', marker='o')\n",
        "plt.plot(forecast.index, forecast, label='Forecast', color='green', marker='s', linestyle='--')\n",
        "plt.fill_between(conf_int.index, conf_int.iloc[:,0], conf_int.iloc[:,1], color='pink', alpha=0.3)\n",
        "plt.axvline(x=train_y.index[-1], color='k', linestyle=':', linewidth=1, alpha=0.6)\n",
        "plt.legend()\n",
        "plt.title(f\"ARIMAX{ORDER} Forecast for {top_group} ({TEST_WEEKS}-week test)\")\n",
        "plt.xlabel(\"Date\"); plt.ylabel(\"Units Sold\"); plt.grid(alpha=0.3); plt.show()"
      ],
      "metadata": {
        "colab": {
          "base_uri": "https://localhost:8080/",
          "height": 487
        },
        "id": "dYVMyJAd8IMU",
        "outputId": "327c1568-4269-4f71-81d3-48012b7589cc"
      },
      "execution_count": 308,
      "outputs": [
        {
          "output_type": "display_data",
          "data": {
            "text/plain": [
              "<Figure size 1200x500 with 1 Axes>"
            ],
            "image/png": "[encoded data removed]"
          },
          "metadata": {}
        }
      ]
    },
    {
      "cell_type": "markdown",
      "source": [
        "# 10. Saving Model"
      ],
      "metadata": {
        "id": "bHWFr6FlhoLf"
      }
    },
    {
      "cell_type": "code",
      "source": [
        "\n",
        "#Saving Model\n",
        "if SAVE_MODEL:\n",
        "    import joblib\n",
        "    joblib.dump(res, MODEL_PATH)\n",
        "    print(f\"\\nSaved model to {os.path.abspath(MODEL_PATH)}\")"
      ],
      "metadata": {
        "id": "mmY-J8N38ORw"
      },
      "execution_count": 309,
      "outputs": []
    },
    {
      "cell_type": "markdown",
      "source": [
        "# 11. Hyperparameter Tuning"
      ],
      "metadata": {
        "id": "ZoVMW_VBhpzt"
      }
    },
    {
      "cell_type": "code",
      "source": [
        "\"\"\"import itertools\n",
        "import numpy as np\n",
        "import pandas as pd\n",
        "import statsmodels.api as sm\n",
        "from sklearn.metrics import mean_absolute_error, mean_squared_error\n",
        "\n",
        "def mape(y_true, y_pred):\n",
        "    y_true, y_pred = np.array(y_true), np.array(y_pred)\n",
        "    mask = y_true != 0\n",
        "    return np.mean(np.abs((y_true[mask] - y_pred[mask]) / y_true[mask])) * 100\n",
        "\n",
        "p = range(0, 10)\n",
        "d = range(0, 2)\n",
        "q = range(0, 10)\n",
        "orders = list(itertools.product(p, d, q))\n",
        "\n",
        "results = []\n",
        "\n",
        "for order in orders:\n",
        "    try:\n",
        "        model = sm.tsa.SARIMAX(train_y, exog=train_X_clean,\n",
        "                               order=order, seasonal_order=(0,0,0,0),\n",
        "                               enforce_stationarity=False, enforce_invertibility=False)\n",
        "        res = model.fit(disp=False)\n",
        "        n_steps = len(test_y)\n",
        "        forecast = res.get_forecast(steps=n_steps, exog=test_X_clean).predicted_mean\n",
        "\n",
        "\n",
        "        train_pred = res.fittedvalues\n",
        "\n",
        "        train_mape = mape(train_y, train_pred)\n",
        "        test_mape  = mape(test_y, forecast)\n",
        "        train_acc  = 100 - train_mape\n",
        "        test_acc   = 100 - test_mape\n",
        "        acc_gap    = abs(train_acc - test_acc)\n",
        "        avg_acc    = (train_acc + test_acc) / 2\n",
        "\n",
        "        results.append({\n",
        "            \"order\": order,\n",
        "            \"AIC\": res.aic,\n",
        "            \"TrainAcc\": train_acc,\n",
        "            \"TestAcc\": test_acc,\n",
        "            \"Gap\": acc_gap,\n",
        "            \"AvgAcc\": avg_acc\n",
        "        })\n",
        "    except Exception:\n",
        "        continue\n",
        "\n",
        "results_df = pd.DataFrame(results)\n",
        "results_df = results_df.sort_values(by=[\"AvgAcc\", \"Gap\"], ascending=[False, True]).reset_index(drop=True)\n",
        "\n",
        "print(\"Top 10 candidate orders by AvgAcc and low Gap:\\n\")\n",
        "print(results_df.head(10))\"\"\"\n"
      ],
      "metadata": {
        "id": "7wmeV3WsgwfA",
        "outputId": "1f171d7e-b912-4354-d218-93443813949e",
        "colab": {
          "base_uri": "https://localhost:8080/",
          "height": 123
        }
      },
      "execution_count": 310,
      "outputs": [
        {
          "output_type": "execute_result",
          "data": {
            "text/plain": [
              "'import itertools\\nimport numpy as np\\nimport pandas as pd\\nimport statsmodels.api as sm\\nfrom sklearn.metrics import mean_absolute_error, mean_squared_error\\n\\ndef mape(y_true, y_pred):\\n    y_true, y_pred = np.array(y_true), np.array(y_pred)\\n    mask = y_true != 0\\n    return np.mean(np.abs((y_true[mask] - y_pred[mask]) / y_true[mask])) * 100\\n\\np = range(0, 10)\\nd = range(0, 2)\\nq = range(0, 10)\\norders = list(itertools.product(p, d, q))\\n\\nresults = []\\n\\nfor order in orders:\\n    try:\\n        model = sm.tsa.SARIMAX(train_y, exog=train_X_clean,\\n                               order=order, seasonal_order=(0,0,0,0),\\n                               enforce_stationarity=False, enforce_invertibility=False)\\n        res = model.fit(disp=False)\\n        n_steps = len(test_y)\\n        forecast = res.get_forecast(steps=n_steps, exog=test_X_clean).predicted_mean\\n\\n  \\n        train_pred = res.fittedvalues\\n\\n        train_mape = mape(train_y, train_pred)\\n        test_mape  = mape(test_y, forecast)\\n        train_acc  = 100 - train_mape\\n        test_acc   = 100 - test_mape\\n        acc_gap    = abs(train_acc - test_acc)\\n        avg_acc    = (train_acc + test_acc) / 2\\n\\n        results.append({\\n            \"order\": order,\\n            \"AIC\": res.aic,\\n            \"TrainAcc\": train_acc,\\n            \"TestAcc\": test_acc,\\n            \"Gap\": acc_gap,\\n            \"AvgAcc\": avg_acc\\n        })\\n    except Exception:\\n        continue\\n\\nresults_df = pd.DataFrame(results)\\nresults_df = results_df.sort_values(by=[\"AvgAcc\", \"Gap\"], ascending=[False, True]).reset_index(drop=True)\\n\\nprint(\"Top 10 candidate orders by AvgAcc and low Gap:\\n\")\\nprint(results_df.head(10))'"
            ],
            "application/vnd.google.colaboratory.intrinsic+json": {
              "type": "string"
            }
          },
          "metadata": {},
          "execution_count": 310
        }
      ]
    },
    {
      "cell_type": "code",
      "source": [],
      "metadata": {
        "id": "-_PqJUkQfNkG"
      },
      "execution_count": 310,
      "outputs": []
    }
  ]
}